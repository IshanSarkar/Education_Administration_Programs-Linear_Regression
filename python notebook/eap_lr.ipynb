{
 "cells": [
  {
   "cell_type": "markdown",
   "id": "080f48d6-f5aa-465a-bc09-c1e23dd55777",
   "metadata": {},
   "source": [
    "# Problem Statement\n",
    "The problem revolves around understanding and predicting graduate admissions. Company aims to enhance its services by analyzing critical factors influencing admissions and leveraging these insights to build a predictive model. The dataset provided will be central to this task."
   ]
  },
  {
   "cell_type": "markdown",
   "id": "e6fcdefb-c80c-4f36-9cd3-eec51109ab64",
   "metadata": {},
   "source": [
    "# Core Challenges\n",
    "- **Factor Identification:** Determine which variables significantly influence graduate admissions.\n",
    "- **Interrelationship Analysis:** Understand how these variables interact with each other.\n",
    "- **Predictive Accuracy:** Construct a robust model to predict admission probabilities, especially tailored to Indian applicants."
   ]
  },
  {
   "cell_type": "code",
   "execution_count": 2,
   "id": "b76f1973-a939-4d47-aa6c-684638e3bf89",
   "metadata": {},
   "outputs": [],
   "source": [
    "import numpy as np\n",
    "import pandas as pd\n",
    "import matplotlib.pyplot as plt\n",
    "import seaborn as sns"
   ]
  },
  {
   "cell_type": "code",
   "execution_count": 3,
   "id": "496a6216-3f18-471d-912f-0d15069440de",
   "metadata": {},
   "outputs": [
    {
     "data": {
      "text/html": [
       "<div>\n",
       "<style scoped>\n",
       "    .dataframe tbody tr th:only-of-type {\n",
       "        vertical-align: middle;\n",
       "    }\n",
       "\n",
       "    .dataframe tbody tr th {\n",
       "        vertical-align: top;\n",
       "    }\n",
       "\n",
       "    .dataframe thead th {\n",
       "        text-align: right;\n",
       "    }\n",
       "</style>\n",
       "<table border=\"1\" class=\"dataframe\">\n",
       "  <thead>\n",
       "    <tr style=\"text-align: right;\">\n",
       "      <th></th>\n",
       "      <th>Serial No.</th>\n",
       "      <th>GRE Score</th>\n",
       "      <th>TOEFL Score</th>\n",
       "      <th>University Rating</th>\n",
       "      <th>SOP</th>\n",
       "      <th>LOR</th>\n",
       "      <th>CGPA</th>\n",
       "      <th>Research</th>\n",
       "      <th>Chance of Admit</th>\n",
       "    </tr>\n",
       "  </thead>\n",
       "  <tbody>\n",
       "    <tr>\n",
       "      <th>0</th>\n",
       "      <td>1</td>\n",
       "      <td>337</td>\n",
       "      <td>118</td>\n",
       "      <td>4</td>\n",
       "      <td>4.5</td>\n",
       "      <td>4.5</td>\n",
       "      <td>9.65</td>\n",
       "      <td>1</td>\n",
       "      <td>0.92</td>\n",
       "    </tr>\n",
       "    <tr>\n",
       "      <th>1</th>\n",
       "      <td>2</td>\n",
       "      <td>324</td>\n",
       "      <td>107</td>\n",
       "      <td>4</td>\n",
       "      <td>4.0</td>\n",
       "      <td>4.5</td>\n",
       "      <td>8.87</td>\n",
       "      <td>1</td>\n",
       "      <td>0.76</td>\n",
       "    </tr>\n",
       "    <tr>\n",
       "      <th>2</th>\n",
       "      <td>3</td>\n",
       "      <td>316</td>\n",
       "      <td>104</td>\n",
       "      <td>3</td>\n",
       "      <td>3.0</td>\n",
       "      <td>3.5</td>\n",
       "      <td>8.00</td>\n",
       "      <td>1</td>\n",
       "      <td>0.72</td>\n",
       "    </tr>\n",
       "    <tr>\n",
       "      <th>3</th>\n",
       "      <td>4</td>\n",
       "      <td>322</td>\n",
       "      <td>110</td>\n",
       "      <td>3</td>\n",
       "      <td>3.5</td>\n",
       "      <td>2.5</td>\n",
       "      <td>8.67</td>\n",
       "      <td>1</td>\n",
       "      <td>0.80</td>\n",
       "    </tr>\n",
       "    <tr>\n",
       "      <th>4</th>\n",
       "      <td>5</td>\n",
       "      <td>314</td>\n",
       "      <td>103</td>\n",
       "      <td>2</td>\n",
       "      <td>2.0</td>\n",
       "      <td>3.0</td>\n",
       "      <td>8.21</td>\n",
       "      <td>0</td>\n",
       "      <td>0.65</td>\n",
       "    </tr>\n",
       "    <tr>\n",
       "      <th>...</th>\n",
       "      <td>...</td>\n",
       "      <td>...</td>\n",
       "      <td>...</td>\n",
       "      <td>...</td>\n",
       "      <td>...</td>\n",
       "      <td>...</td>\n",
       "      <td>...</td>\n",
       "      <td>...</td>\n",
       "      <td>...</td>\n",
       "    </tr>\n",
       "    <tr>\n",
       "      <th>495</th>\n",
       "      <td>496</td>\n",
       "      <td>332</td>\n",
       "      <td>108</td>\n",
       "      <td>5</td>\n",
       "      <td>4.5</td>\n",
       "      <td>4.0</td>\n",
       "      <td>9.02</td>\n",
       "      <td>1</td>\n",
       "      <td>0.87</td>\n",
       "    </tr>\n",
       "    <tr>\n",
       "      <th>496</th>\n",
       "      <td>497</td>\n",
       "      <td>337</td>\n",
       "      <td>117</td>\n",
       "      <td>5</td>\n",
       "      <td>5.0</td>\n",
       "      <td>5.0</td>\n",
       "      <td>9.87</td>\n",
       "      <td>1</td>\n",
       "      <td>0.96</td>\n",
       "    </tr>\n",
       "    <tr>\n",
       "      <th>497</th>\n",
       "      <td>498</td>\n",
       "      <td>330</td>\n",
       "      <td>120</td>\n",
       "      <td>5</td>\n",
       "      <td>4.5</td>\n",
       "      <td>5.0</td>\n",
       "      <td>9.56</td>\n",
       "      <td>1</td>\n",
       "      <td>0.93</td>\n",
       "    </tr>\n",
       "    <tr>\n",
       "      <th>498</th>\n",
       "      <td>499</td>\n",
       "      <td>312</td>\n",
       "      <td>103</td>\n",
       "      <td>4</td>\n",
       "      <td>4.0</td>\n",
       "      <td>5.0</td>\n",
       "      <td>8.43</td>\n",
       "      <td>0</td>\n",
       "      <td>0.73</td>\n",
       "    </tr>\n",
       "    <tr>\n",
       "      <th>499</th>\n",
       "      <td>500</td>\n",
       "      <td>327</td>\n",
       "      <td>113</td>\n",
       "      <td>4</td>\n",
       "      <td>4.5</td>\n",
       "      <td>4.5</td>\n",
       "      <td>9.04</td>\n",
       "      <td>0</td>\n",
       "      <td>0.84</td>\n",
       "    </tr>\n",
       "  </tbody>\n",
       "</table>\n",
       "<p>500 rows × 9 columns</p>\n",
       "</div>"
      ],
      "text/plain": [
       "     Serial No.  GRE Score  TOEFL Score  University Rating  SOP  LOR   CGPA  \\\n",
       "0             1        337          118                  4  4.5   4.5  9.65   \n",
       "1             2        324          107                  4  4.0   4.5  8.87   \n",
       "2             3        316          104                  3  3.0   3.5  8.00   \n",
       "3             4        322          110                  3  3.5   2.5  8.67   \n",
       "4             5        314          103                  2  2.0   3.0  8.21   \n",
       "..          ...        ...          ...                ...  ...   ...   ...   \n",
       "495         496        332          108                  5  4.5   4.0  9.02   \n",
       "496         497        337          117                  5  5.0   5.0  9.87   \n",
       "497         498        330          120                  5  4.5   5.0  9.56   \n",
       "498         499        312          103                  4  4.0   5.0  8.43   \n",
       "499         500        327          113                  4  4.5   4.5  9.04   \n",
       "\n",
       "     Research  Chance of Admit   \n",
       "0           1              0.92  \n",
       "1           1              0.76  \n",
       "2           1              0.72  \n",
       "3           1              0.80  \n",
       "4           0              0.65  \n",
       "..        ...               ...  \n",
       "495         1              0.87  \n",
       "496         1              0.96  \n",
       "497         1              0.93  \n",
       "498         0              0.73  \n",
       "499         0              0.84  \n",
       "\n",
       "[500 rows x 9 columns]"
      ]
     },
     "execution_count": 3,
     "metadata": {},
     "output_type": "execute_result"
    }
   ],
   "source": [
    "df=pd.read_csv('data.csv')\n",
    "df"
   ]
  },
  {
   "cell_type": "code",
   "execution_count": 5,
   "id": "312434b6-3570-4004-8b21-28cacf1b0227",
   "metadata": {},
   "outputs": [
    {
     "data": {
      "text/plain": [
       "(500, 9)"
      ]
     },
     "execution_count": 5,
     "metadata": {},
     "output_type": "execute_result"
    }
   ],
   "source": [
    "df.shape"
   ]
  },
  {
   "cell_type": "markdown",
   "id": "64cbc7a6-4a49-4202-9437-dd5960a7f12d",
   "metadata": {},
   "source": [
    "There are 500 rows and 9 columns"
   ]
  },
  {
   "cell_type": "code",
   "execution_count": 6,
   "id": "4b28cdc3-ea7d-4ae0-a410-e9037a3c5615",
   "metadata": {},
   "outputs": [
    {
     "name": "stdout",
     "output_type": "stream",
     "text": [
      "<class 'pandas.core.frame.DataFrame'>\n",
      "RangeIndex: 500 entries, 0 to 499\n",
      "Data columns (total 9 columns):\n",
      " #   Column             Non-Null Count  Dtype  \n",
      "---  ------             --------------  -----  \n",
      " 0   Serial No.         500 non-null    int64  \n",
      " 1   GRE Score          500 non-null    int64  \n",
      " 2   TOEFL Score        500 non-null    int64  \n",
      " 3   University Rating  500 non-null    int64  \n",
      " 4   SOP                500 non-null    float64\n",
      " 5   LOR                500 non-null    float64\n",
      " 6   CGPA               500 non-null    float64\n",
      " 7   Research           500 non-null    int64  \n",
      " 8   Chance of Admit    500 non-null    float64\n",
      "dtypes: float64(4), int64(5)\n",
      "memory usage: 35.3 KB\n"
     ]
    }
   ],
   "source": [
    "df.info()"
   ]
  },
  {
   "cell_type": "code",
   "execution_count": 7,
   "id": "7b4b02d6-df89-47b3-ac48-351b0c9c796c",
   "metadata": {},
   "outputs": [
    {
     "data": {
      "text/plain": [
       "Serial No.           0\n",
       "GRE Score            0\n",
       "TOEFL Score          0\n",
       "University Rating    0\n",
       "SOP                  0\n",
       "LOR                  0\n",
       "CGPA                 0\n",
       "Research             0\n",
       "Chance of Admit      0\n",
       "dtype: int64"
      ]
     },
     "execution_count": 7,
     "metadata": {},
     "output_type": "execute_result"
    }
   ],
   "source": [
    "df.isnull().sum()"
   ]
  },
  {
   "cell_type": "markdown",
   "id": "c8f221b0-f703-44d5-be93-57be2ac534ed",
   "metadata": {},
   "source": [
    "It looks like there are no null values"
   ]
  },
  {
   "cell_type": "code",
   "execution_count": 9,
   "id": "26b635a0-02df-4aac-8a4b-09eb0103f638",
   "metadata": {},
   "outputs": [
    {
     "data": {
      "text/plain": [
       "Index(['Serial No.', 'GRE Score', 'TOEFL Score', 'University Rating', 'SOP',\n",
       "       'LOR ', 'CGPA', 'Research', 'Chance of Admit '],\n",
       "      dtype='object')"
      ]
     },
     "execution_count": 9,
     "metadata": {},
     "output_type": "execute_result"
    }
   ],
   "source": [
    "df.keys()"
   ]
  },
  {
   "cell_type": "code",
   "execution_count": 18,
   "id": "0c8f5747-48fb-40a2-b75d-454ba4084d69",
   "metadata": {},
   "outputs": [
    {
     "name": "stdout",
     "output_type": "stream",
     "text": [
      "Column name: Serial No. and it contains \n",
      " Serial No.\n",
      "500    1\n",
      "1      1\n",
      "2      1\n",
      "3      1\n",
      "484    1\n",
      "      ..\n",
      "9      1\n",
      "8      1\n",
      "7      1\n",
      "6      1\n",
      "5      1\n",
      "Name: count, Length: 500, dtype: int64\n",
      "\n",
      "\n",
      "Column name: GRE Score and it contains \n",
      " GRE Score\n",
      "312    24\n",
      "324    23\n",
      "316    18\n",
      "322    17\n",
      "327    17\n",
      "321    17\n",
      "311    16\n",
      "320    16\n",
      "314    16\n",
      "325    15\n",
      "317    15\n",
      "308    13\n",
      "323    13\n",
      "315    13\n",
      "300    12\n",
      "319    12\n",
      "313    12\n",
      "326    12\n",
      "304    12\n",
      "318    12\n",
      "305    11\n",
      "310    11\n",
      "301    11\n",
      "307    10\n",
      "329    10\n",
      "299    10\n",
      "298    10\n",
      "331     9\n",
      "328     9\n",
      "309     9\n",
      "340     9\n",
      "330     8\n",
      "334     8\n",
      "332     8\n",
      "302     7\n",
      "306     7\n",
      "297     6\n",
      "296     5\n",
      "303     5\n",
      "336     5\n",
      "295     5\n",
      "333     4\n",
      "338     4\n",
      "335     4\n",
      "339     3\n",
      "337     2\n",
      "294     2\n",
      "290     2\n",
      "293     1\n",
      "Name: count, dtype: int64\n",
      "\n",
      "\n",
      "Column name: TOEFL Score and it contains \n",
      " TOEFL Score\n",
      "110    44\n",
      "105    37\n",
      "104    29\n",
      "106    28\n",
      "107    28\n",
      "112    28\n",
      "103    25\n",
      "100    24\n",
      "102    24\n",
      "99     23\n",
      "111    20\n",
      "101    20\n",
      "108    19\n",
      "109    19\n",
      "113    19\n",
      "114    18\n",
      "116    16\n",
      "115    11\n",
      "118    10\n",
      "119    10\n",
      "98     10\n",
      "120     9\n",
      "117     8\n",
      "97      7\n",
      "96      6\n",
      "95      3\n",
      "93      2\n",
      "94      2\n",
      "92      1\n",
      "Name: count, dtype: int64\n",
      "\n",
      "\n",
      "Column name: University Rating and it contains \n",
      " University Rating\n",
      "3    162\n",
      "2    126\n",
      "4    105\n",
      "5     73\n",
      "1     34\n",
      "Name: count, dtype: int64\n",
      "\n",
      "\n",
      "Column name: SOP and it contains \n",
      " SOP\n",
      "4.0    89\n",
      "3.5    88\n",
      "3.0    80\n",
      "2.5    64\n",
      "4.5    63\n",
      "2.0    43\n",
      "5.0    42\n",
      "1.5    25\n",
      "1.0     6\n",
      "Name: count, dtype: int64\n",
      "\n",
      "\n",
      "Column name: LOR  and it contains \n",
      " LOR \n",
      "3.0    99\n",
      "4.0    94\n",
      "3.5    86\n",
      "4.5    63\n",
      "2.5    50\n",
      "5.0    50\n",
      "2.0    46\n",
      "1.5    11\n",
      "1.0     1\n",
      "Name: count, dtype: int64\n",
      "\n",
      "\n",
      "Column name: CGPA and it contains \n",
      " CGPA\n",
      "8.00    9\n",
      "8.76    9\n",
      "8.56    7\n",
      "8.12    7\n",
      "8.45    7\n",
      "       ..\n",
      "7.57    1\n",
      "7.21    1\n",
      "9.27    1\n",
      "7.81    1\n",
      "7.69    1\n",
      "Name: count, Length: 184, dtype: int64\n",
      "\n",
      "\n",
      "Column name: Research and it contains \n",
      " Research\n",
      "1    280\n",
      "0    220\n",
      "Name: count, dtype: int64\n",
      "\n",
      "\n",
      "Column name: Chance of Admit  and it contains \n",
      " Chance of Admit \n",
      "0.71    23\n",
      "0.64    19\n",
      "0.73    18\n",
      "0.72    16\n",
      "0.79    16\n",
      "        ..\n",
      "0.60     2\n",
      "0.51     2\n",
      "0.43     1\n",
      "0.39     1\n",
      "0.37     1\n",
      "Name: count, Length: 61, dtype: int64\n",
      "\n",
      "\n"
     ]
    }
   ],
   "source": [
    "for i in df.keys():\n",
    "    print(f'Column name: {i} and it contains \\n {df[i].value_counts()}\\n\\n')"
   ]
  },
  {
   "cell_type": "markdown",
   "id": "c9707272-1fab-4204-827a-977e1d06577e",
   "metadata": {},
   "source": [
    "#### Column details:\n",
    "- **Serial No.:** This column represents the unique row identifier for each applicant in the\n",
    "dataset.\n",
    "- **GRE Scores:** This column contains the GRE (Graduate Record Examination) scores of the applicants, which are measured on a scale of 0 to 340.\n",
    "- **TOEFL Scores:** This column includes the TOEFL (Test of English as a Foreign Language) scores of the applicants, which are measured on a scale of 0 to 120.\n",
    "- **University Rating:** This column indicates the rating or reputation of the university that the applicants are associated with.\n",
    "    - The rating is based on a scale of 0 to 5, with 5 representing the highest rating.\n",
    "- **SOP:** This column represents the strength of the applicant's statement of purpose, rated on a scale of 0 to 5, with 5 indicating a strong and compelling SOP.\n",
    "- **LOR:** This column represents the strength of the applicant's letter of recommendation, rated on a scale of 0 to 5, with 5 indicating a strong and compelling LOR.\n",
    "- **CGPA:** This column contains the undergraduate Grade Point Average (GPA) of the applicants, which is measured on a scale of 0 to 10.\n",
    "- **Research:** This column indicates whether the applicant has research experience (1) or not (0).\n",
    "- **Chance of Admit:** This column represents the estimated probability or chance of admission for each applicant, ranging from 0 to 1."
   ]
  },
  {
   "cell_type": "code",
   "execution_count": 19,
   "id": "6e55e3cc-dce3-4ae7-a5a4-197f146e5f15",
   "metadata": {},
   "outputs": [
    {
     "data": {
      "text/html": [
       "<div>\n",
       "<style scoped>\n",
       "    .dataframe tbody tr th:only-of-type {\n",
       "        vertical-align: middle;\n",
       "    }\n",
       "\n",
       "    .dataframe tbody tr th {\n",
       "        vertical-align: top;\n",
       "    }\n",
       "\n",
       "    .dataframe thead th {\n",
       "        text-align: right;\n",
       "    }\n",
       "</style>\n",
       "<table border=\"1\" class=\"dataframe\">\n",
       "  <thead>\n",
       "    <tr style=\"text-align: right;\">\n",
       "      <th></th>\n",
       "      <th>Serial No.</th>\n",
       "      <th>GRE Score</th>\n",
       "      <th>TOEFL Score</th>\n",
       "      <th>University Rating</th>\n",
       "      <th>SOP</th>\n",
       "      <th>LOR</th>\n",
       "      <th>CGPA</th>\n",
       "      <th>Research</th>\n",
       "      <th>Chance of Admit</th>\n",
       "    </tr>\n",
       "  </thead>\n",
       "  <tbody>\n",
       "    <tr>\n",
       "      <th>0</th>\n",
       "      <td>1</td>\n",
       "      <td>337</td>\n",
       "      <td>118</td>\n",
       "      <td>4</td>\n",
       "      <td>4.5</td>\n",
       "      <td>4.5</td>\n",
       "      <td>9.65</td>\n",
       "      <td>1</td>\n",
       "      <td>0.92</td>\n",
       "    </tr>\n",
       "    <tr>\n",
       "      <th>1</th>\n",
       "      <td>2</td>\n",
       "      <td>324</td>\n",
       "      <td>107</td>\n",
       "      <td>4</td>\n",
       "      <td>4.0</td>\n",
       "      <td>4.5</td>\n",
       "      <td>8.87</td>\n",
       "      <td>1</td>\n",
       "      <td>0.76</td>\n",
       "    </tr>\n",
       "    <tr>\n",
       "      <th>2</th>\n",
       "      <td>3</td>\n",
       "      <td>316</td>\n",
       "      <td>104</td>\n",
       "      <td>3</td>\n",
       "      <td>3.0</td>\n",
       "      <td>3.5</td>\n",
       "      <td>8.00</td>\n",
       "      <td>1</td>\n",
       "      <td>0.72</td>\n",
       "    </tr>\n",
       "    <tr>\n",
       "      <th>3</th>\n",
       "      <td>4</td>\n",
       "      <td>322</td>\n",
       "      <td>110</td>\n",
       "      <td>3</td>\n",
       "      <td>3.5</td>\n",
       "      <td>2.5</td>\n",
       "      <td>8.67</td>\n",
       "      <td>1</td>\n",
       "      <td>0.80</td>\n",
       "    </tr>\n",
       "    <tr>\n",
       "      <th>4</th>\n",
       "      <td>5</td>\n",
       "      <td>314</td>\n",
       "      <td>103</td>\n",
       "      <td>2</td>\n",
       "      <td>2.0</td>\n",
       "      <td>3.0</td>\n",
       "      <td>8.21</td>\n",
       "      <td>0</td>\n",
       "      <td>0.65</td>\n",
       "    </tr>\n",
       "  </tbody>\n",
       "</table>\n",
       "</div>"
      ],
      "text/plain": [
       "   Serial No.  GRE Score  TOEFL Score  University Rating  SOP  LOR   CGPA  \\\n",
       "0           1        337          118                  4  4.5   4.5  9.65   \n",
       "1           2        324          107                  4  4.0   4.5  8.87   \n",
       "2           3        316          104                  3  3.0   3.5  8.00   \n",
       "3           4        322          110                  3  3.5   2.5  8.67   \n",
       "4           5        314          103                  2  2.0   3.0  8.21   \n",
       "\n",
       "   Research  Chance of Admit   \n",
       "0         1              0.92  \n",
       "1         1              0.76  \n",
       "2         1              0.72  \n",
       "3         1              0.80  \n",
       "4         0              0.65  "
      ]
     },
     "execution_count": 19,
     "metadata": {},
     "output_type": "execute_result"
    }
   ],
   "source": [
    "df.head()"
   ]
  },
  {
   "cell_type": "code",
   "execution_count": 20,
   "id": "e33081aa-ab23-42d0-ab4e-aa7e1bb3fef6",
   "metadata": {},
   "outputs": [
    {
     "data": {
      "text/html": [
       "<div>\n",
       "<style scoped>\n",
       "    .dataframe tbody tr th:only-of-type {\n",
       "        vertical-align: middle;\n",
       "    }\n",
       "\n",
       "    .dataframe tbody tr th {\n",
       "        vertical-align: top;\n",
       "    }\n",
       "\n",
       "    .dataframe thead th {\n",
       "        text-align: right;\n",
       "    }\n",
       "</style>\n",
       "<table border=\"1\" class=\"dataframe\">\n",
       "  <thead>\n",
       "    <tr style=\"text-align: right;\">\n",
       "      <th></th>\n",
       "      <th>Serial No.</th>\n",
       "      <th>GRE Score</th>\n",
       "      <th>TOEFL Score</th>\n",
       "      <th>University Rating</th>\n",
       "      <th>SOP</th>\n",
       "      <th>LOR</th>\n",
       "      <th>CGPA</th>\n",
       "      <th>Research</th>\n",
       "      <th>Chance of Admit</th>\n",
       "    </tr>\n",
       "  </thead>\n",
       "  <tbody>\n",
       "    <tr>\n",
       "      <th>count</th>\n",
       "      <td>500.000000</td>\n",
       "      <td>500.000000</td>\n",
       "      <td>500.000000</td>\n",
       "      <td>500.000000</td>\n",
       "      <td>500.000000</td>\n",
       "      <td>500.00000</td>\n",
       "      <td>500.000000</td>\n",
       "      <td>500.000000</td>\n",
       "      <td>500.00000</td>\n",
       "    </tr>\n",
       "    <tr>\n",
       "      <th>mean</th>\n",
       "      <td>250.500000</td>\n",
       "      <td>316.472000</td>\n",
       "      <td>107.192000</td>\n",
       "      <td>3.114000</td>\n",
       "      <td>3.374000</td>\n",
       "      <td>3.48400</td>\n",
       "      <td>8.576440</td>\n",
       "      <td>0.560000</td>\n",
       "      <td>0.72174</td>\n",
       "    </tr>\n",
       "    <tr>\n",
       "      <th>std</th>\n",
       "      <td>144.481833</td>\n",
       "      <td>11.295148</td>\n",
       "      <td>6.081868</td>\n",
       "      <td>1.143512</td>\n",
       "      <td>0.991004</td>\n",
       "      <td>0.92545</td>\n",
       "      <td>0.604813</td>\n",
       "      <td>0.496884</td>\n",
       "      <td>0.14114</td>\n",
       "    </tr>\n",
       "    <tr>\n",
       "      <th>min</th>\n",
       "      <td>1.000000</td>\n",
       "      <td>290.000000</td>\n",
       "      <td>92.000000</td>\n",
       "      <td>1.000000</td>\n",
       "      <td>1.000000</td>\n",
       "      <td>1.00000</td>\n",
       "      <td>6.800000</td>\n",
       "      <td>0.000000</td>\n",
       "      <td>0.34000</td>\n",
       "    </tr>\n",
       "    <tr>\n",
       "      <th>25%</th>\n",
       "      <td>125.750000</td>\n",
       "      <td>308.000000</td>\n",
       "      <td>103.000000</td>\n",
       "      <td>2.000000</td>\n",
       "      <td>2.500000</td>\n",
       "      <td>3.00000</td>\n",
       "      <td>8.127500</td>\n",
       "      <td>0.000000</td>\n",
       "      <td>0.63000</td>\n",
       "    </tr>\n",
       "    <tr>\n",
       "      <th>50%</th>\n",
       "      <td>250.500000</td>\n",
       "      <td>317.000000</td>\n",
       "      <td>107.000000</td>\n",
       "      <td>3.000000</td>\n",
       "      <td>3.500000</td>\n",
       "      <td>3.50000</td>\n",
       "      <td>8.560000</td>\n",
       "      <td>1.000000</td>\n",
       "      <td>0.72000</td>\n",
       "    </tr>\n",
       "    <tr>\n",
       "      <th>75%</th>\n",
       "      <td>375.250000</td>\n",
       "      <td>325.000000</td>\n",
       "      <td>112.000000</td>\n",
       "      <td>4.000000</td>\n",
       "      <td>4.000000</td>\n",
       "      <td>4.00000</td>\n",
       "      <td>9.040000</td>\n",
       "      <td>1.000000</td>\n",
       "      <td>0.82000</td>\n",
       "    </tr>\n",
       "    <tr>\n",
       "      <th>max</th>\n",
       "      <td>500.000000</td>\n",
       "      <td>340.000000</td>\n",
       "      <td>120.000000</td>\n",
       "      <td>5.000000</td>\n",
       "      <td>5.000000</td>\n",
       "      <td>5.00000</td>\n",
       "      <td>9.920000</td>\n",
       "      <td>1.000000</td>\n",
       "      <td>0.97000</td>\n",
       "    </tr>\n",
       "  </tbody>\n",
       "</table>\n",
       "</div>"
      ],
      "text/plain": [
       "       Serial No.   GRE Score  TOEFL Score  University Rating         SOP  \\\n",
       "count  500.000000  500.000000   500.000000         500.000000  500.000000   \n",
       "mean   250.500000  316.472000   107.192000           3.114000    3.374000   \n",
       "std    144.481833   11.295148     6.081868           1.143512    0.991004   \n",
       "min      1.000000  290.000000    92.000000           1.000000    1.000000   \n",
       "25%    125.750000  308.000000   103.000000           2.000000    2.500000   \n",
       "50%    250.500000  317.000000   107.000000           3.000000    3.500000   \n",
       "75%    375.250000  325.000000   112.000000           4.000000    4.000000   \n",
       "max    500.000000  340.000000   120.000000           5.000000    5.000000   \n",
       "\n",
       "            LOR         CGPA    Research  Chance of Admit   \n",
       "count  500.00000  500.000000  500.000000         500.00000  \n",
       "mean     3.48400    8.576440    0.560000           0.72174  \n",
       "std      0.92545    0.604813    0.496884           0.14114  \n",
       "min      1.00000    6.800000    0.000000           0.34000  \n",
       "25%      3.00000    8.127500    0.000000           0.63000  \n",
       "50%      3.50000    8.560000    1.000000           0.72000  \n",
       "75%      4.00000    9.040000    1.000000           0.82000  \n",
       "max      5.00000    9.920000    1.000000           0.97000  "
      ]
     },
     "execution_count": 20,
     "metadata": {},
     "output_type": "execute_result"
    }
   ],
   "source": [
    "df.describe()"
   ]
  },
  {
   "cell_type": "markdown",
   "id": "7f0743e4-4374-4bbd-8fbf-13e806b8d9e8",
   "metadata": {},
   "source": [
    "#### Column-Wise Analysis\n",
    "- GRE Score\n",
    "    - Mean: 316.47, Std: 11.3\n",
    "    - The majority of scores (middle 50%) fall between 308 (25th percentile) and 325 (75th percentile), showing a strong central tendency around competitive GRE scores.\n",
    "    - The range (290 to 340) suggests no extreme outliers.\n",
    "- TOEFL Score\n",
    "    - Mean: 107.19, Std: 6.08\n",
    "    - Scores are tightly clustered around the mean, with most falling between 103 and 112.\n",
    "    - The minimum score of 92 indicates a few weaker applicants, while the maximum of 120 represents a perfect TOEFL score.\n",
    "- University Rating\n",
    "    - Mean: 3.11, Std: 1.14\n",
    "    - Ratings are evenly distributed, with many universities rated between 2 and 4. Few universities have the highest rating of 5 or the lowest rating of 1.\n",
    "- SOP (Statement of Purpose) and LOR (Letter of Recommendation Strength)\n",
    "    - Means: 3.37 (SOP) and 3.48 (LOR), Std: ~1.0\n",
    "    - Both have similar distributions, with the majority rated 3 or higher.\n",
    "    - SOP and LOR ratings of 1 are rare, indicating most applicants have reasonably strong submissions.\n",
    "- CGPA\n",
    "    - Mean: 8.58, Std: 0.6\n",
    "    - CGPA scores are tightly clustered, with most falling between 8.13 and 9.04. This high average reflects a competitive applicant pool.\n",
    "    - The maximum value of 9.92 indicates exceptionally strong academic profiles.\n",
    "- Research\n",
    "    - Mean: 0.56, Std: 0.49\n",
    "    - ~56% of applicants have research experience. This binary variable is well-balanced and likely impactful for predictive modeling.\n",
    "- Chance of Admit\n",
    "    - Mean: 0.72, Std: 0.14\n",
    "    - The majority of applicants have an admission probability between 0.63 and 0.82 (middle 50%).\n",
    "    - A minimum of 0.34 suggests the inclusion of lower-probability applicants, while a maximum of 0.97 indicates highly competitive profiles."
   ]
  },
  {
   "cell_type": "markdown",
   "id": "cad07e0d-1d3b-4a7f-a5f6-07ab71a6dbe9",
   "metadata": {},
   "source": [
    "#### General Insights\n",
    "- Highly Competitive Dataset:\n",
    "    - The applicant pool is strong, with high GRE, TOEFL, CGPA, and SOP/LOR ratings.\n",
    "- Importance of Research:\n",
    "    - With 56% having research experience, this feature could act as a strong differentiator.\n",
    "- Predictive Modeling Considerations:\n",
    "    - GRE Score, TOEFL Score, CGPA, University Rating, and Research are likely to be strong predictors of Chance of Admit.\n",
    "    - Normalizing or scaling features like GRE, TOEFL, and CGPA will help ensure that all variables contribute equally to model performance.\n",
    "- Strategic Recommendations:\n",
    "    - Company can emphasize the importance of strong SOPs and LORs, as the data shows high ratings in these areas.\n",
    "    - Targeting research experience and improving TOEFL/GRE thresholds may be key for borderline applicants to improve their profiles."
   ]
  },
  {
   "cell_type": "markdown",
   "id": "98b8deef-43ff-463e-93d4-e483579eedcb",
   "metadata": {},
   "source": [
    "#### Additional Insights\n",
    "- **Test Scores Analysis:** Focus on GRE and TOEFL scores, as they are crucial for Ivy League admissions. Analyze thresholds and determine the minimum scores for higher admission probabilities.\n",
    "- **Academic Background:** Rely on CGPA as a proxy for the applicant's academic strength. Examine its relationship with admission chances, particularly for competitive universities.\n",
    "- **Qualitative Evaluation:** Utilize SOP and LOR ratings to assess their impact on admission likelihood, focusing on how these components can strengthen an application when combined with solid test scores.\n",
    "- **Research Experience:** Investigate the influence of research experience (binary feature) on admissions. Highlight its importance in differentiating applicants with similar academic profiles.\n",
    "- **Feature Engineering:** Create derived metrics such as a weighted score combining GRE, TOEFL, and CGPA, or interaction terms like GRE × Research to improve model interpretability and predictive accuracy.\n",
    "- **Model Validation:** Employ cross-validation techniques to ensure that the predictive model performs consistently and generalizes well across various subsets of the dataset."
   ]
  },
  {
   "cell_type": "markdown",
   "id": "7738f903-1b87-449f-a77d-a76a89a40f6f",
   "metadata": {},
   "source": [
    "#### Strategic Impact\n",
    "**For Company:** <br>\n",
    "- **Data-Driven Services:** Use GRE, TOEFL, CGPA, SOP, and LOR insights to create a predictive admission tool for the website, enhancing its utility and user experience.\n",
    "- **Student Preparation Strategy:** Tailor guidance programs to help students strengthen weaker areas, such as improving SOP quality or targeting specific GRE/TOEFL score ranges.<br><br>\n",
    "**For Students:** <br>\n",
    "- **Transparent Insights:** Provide clear predictions about admission chances based on the dataset's quantifiable factors, helping students set realistic expectations.\n",
    "- **Focused Improvement Areas:** Offer practical recommendations to improve their profiles, such as emphasizing research experience or targeting GRE score improvements."
   ]
  },
  {
   "cell_type": "code",
   "execution_count": 21,
   "id": "b8fe135b-0272-4c18-830a-9de5edd7162b",
   "metadata": {},
   "outputs": [
    {
     "data": {
      "text/plain": [
       "np.int64(0)"
      ]
     },
     "execution_count": 21,
     "metadata": {},
     "output_type": "execute_result"
    }
   ],
   "source": [
    "df.duplicated().sum()"
   ]
  },
  {
   "cell_type": "markdown",
   "id": "efc4f2f4-96cf-41a3-90b7-41265f02dbf9",
   "metadata": {},
   "source": [
    "There are no duplicated rows in the dataset"
   ]
  },
  {
   "cell_type": "markdown",
   "id": "807f74f8-02fc-4ac3-abb0-dee800411528",
   "metadata": {},
   "source": [
    "- there is a categorical columns: Research (but it is in boolean format)\n",
    "- there are ordinal columns: University Rating, SOP, LOR\n",
    "- there are numerical columns: GRE Score, TOEFL Score, Chance of Admit"
   ]
  },
  {
   "cell_type": "markdown",
   "id": "d2928e48-fa16-4fb5-9a7a-747556cd3c8e",
   "metadata": {},
   "source": [
    "We can drop the column: Serial No., as it is not adding any value to our business case study"
   ]
  },
  {
   "cell_type": "code",
   "execution_count": 22,
   "id": "d90f7308-3250-4a58-909c-9a3d157910b1",
   "metadata": {},
   "outputs": [],
   "source": [
    "df = df.drop(columns=['Serial No.'])"
   ]
  },
  {
   "cell_type": "code",
   "execution_count": 23,
   "id": "0d533a94-f296-44fc-87d3-583d6da28ba7",
   "metadata": {},
   "outputs": [
    {
     "data": {
      "text/html": [
       "<div>\n",
       "<style scoped>\n",
       "    .dataframe tbody tr th:only-of-type {\n",
       "        vertical-align: middle;\n",
       "    }\n",
       "\n",
       "    .dataframe tbody tr th {\n",
       "        vertical-align: top;\n",
       "    }\n",
       "\n",
       "    .dataframe thead th {\n",
       "        text-align: right;\n",
       "    }\n",
       "</style>\n",
       "<table border=\"1\" class=\"dataframe\">\n",
       "  <thead>\n",
       "    <tr style=\"text-align: right;\">\n",
       "      <th></th>\n",
       "      <th>GRE Score</th>\n",
       "      <th>TOEFL Score</th>\n",
       "      <th>University Rating</th>\n",
       "      <th>SOP</th>\n",
       "      <th>LOR</th>\n",
       "      <th>CGPA</th>\n",
       "      <th>Research</th>\n",
       "      <th>Chance of Admit</th>\n",
       "    </tr>\n",
       "  </thead>\n",
       "  <tbody>\n",
       "    <tr>\n",
       "      <th>0</th>\n",
       "      <td>337</td>\n",
       "      <td>118</td>\n",
       "      <td>4</td>\n",
       "      <td>4.5</td>\n",
       "      <td>4.5</td>\n",
       "      <td>9.65</td>\n",
       "      <td>1</td>\n",
       "      <td>0.92</td>\n",
       "    </tr>\n",
       "    <tr>\n",
       "      <th>1</th>\n",
       "      <td>324</td>\n",
       "      <td>107</td>\n",
       "      <td>4</td>\n",
       "      <td>4.0</td>\n",
       "      <td>4.5</td>\n",
       "      <td>8.87</td>\n",
       "      <td>1</td>\n",
       "      <td>0.76</td>\n",
       "    </tr>\n",
       "    <tr>\n",
       "      <th>2</th>\n",
       "      <td>316</td>\n",
       "      <td>104</td>\n",
       "      <td>3</td>\n",
       "      <td>3.0</td>\n",
       "      <td>3.5</td>\n",
       "      <td>8.00</td>\n",
       "      <td>1</td>\n",
       "      <td>0.72</td>\n",
       "    </tr>\n",
       "    <tr>\n",
       "      <th>3</th>\n",
       "      <td>322</td>\n",
       "      <td>110</td>\n",
       "      <td>3</td>\n",
       "      <td>3.5</td>\n",
       "      <td>2.5</td>\n",
       "      <td>8.67</td>\n",
       "      <td>1</td>\n",
       "      <td>0.80</td>\n",
       "    </tr>\n",
       "    <tr>\n",
       "      <th>4</th>\n",
       "      <td>314</td>\n",
       "      <td>103</td>\n",
       "      <td>2</td>\n",
       "      <td>2.0</td>\n",
       "      <td>3.0</td>\n",
       "      <td>8.21</td>\n",
       "      <td>0</td>\n",
       "      <td>0.65</td>\n",
       "    </tr>\n",
       "  </tbody>\n",
       "</table>\n",
       "</div>"
      ],
      "text/plain": [
       "   GRE Score  TOEFL Score  University Rating  SOP  LOR   CGPA  Research  \\\n",
       "0        337          118                  4  4.5   4.5  9.65         1   \n",
       "1        324          107                  4  4.0   4.5  8.87         1   \n",
       "2        316          104                  3  3.0   3.5  8.00         1   \n",
       "3        322          110                  3  3.5   2.5  8.67         1   \n",
       "4        314          103                  2  2.0   3.0  8.21         0   \n",
       "\n",
       "   Chance of Admit   \n",
       "0              0.92  \n",
       "1              0.76  \n",
       "2              0.72  \n",
       "3              0.80  \n",
       "4              0.65  "
      ]
     },
     "execution_count": 23,
     "metadata": {},
     "output_type": "execute_result"
    }
   ],
   "source": [
    "df.head()"
   ]
  },
  {
   "cell_type": "markdown",
   "id": "dae6341d-81ba-4d28-a096-05233a8b2474",
   "metadata": {},
   "source": [
    "#### Univariate Analysis"
   ]
  },
  {
   "cell_type": "code",
   "execution_count": 24,
   "id": "5dc9625c-a902-422c-8143-16cd1985d540",
   "metadata": {},
   "outputs": [
    {
     "data": {
      "text/plain": [
       "Research\n",
       "1    280\n",
       "0    220\n",
       "Name: count, dtype: int64"
      ]
     },
     "execution_count": 24,
     "metadata": {},
     "output_type": "execute_result"
    }
   ],
   "source": [
    "df.Research.value_counts()"
   ]
  },
  {
   "cell_type": "code",
   "execution_count": 26,
   "id": "7b17f69e-d714-42ca-a8b7-f334c693c8b8",
   "metadata": {},
   "outputs": [
    {
     "data": {
      "image/png": "[encoded data removed]",
      "text/plain": [
       "<Figure size 640x480 with 1 Axes>"
      ]
     },
     "metadata": {},
     "output_type": "display_data"
    }
   ],
   "source": [
    "plt.pie(df.Research.value_counts(), labels=df.Research.value_counts().index, autopct='%.0f%%')\n",
    "plt.title('Research');"
   ]
  },
  {
   "cell_type": "markdown",
   "id": "9d3cbdfd-11ae-42a7-b864-f768c270bf66",
   "metadata": {},
   "source": [
    "- 56% of applicants have research experience, which suggests that research is a relatively common qualification among the applicant pool."
   ]
  },
  {
   "cell_type": "code",
   "execution_count": 27,
   "id": "58ee0695-0f62-479f-af73-e6c448a01144",
   "metadata": {},
   "outputs": [
    {
     "data": {
      "text/plain": [
       "University Rating\n",
       "3    162\n",
       "2    126\n",
       "4    105\n",
       "5     73\n",
       "1     34\n",
       "Name: count, dtype: int64"
      ]
     },
     "execution_count": 27,
     "metadata": {},
     "output_type": "execute_result"
    }
   ],
   "source": [
    "df['University Rating'].value_counts()"
   ]
  },
  {
   "cell_type": "code",
   "execution_count": 41,
   "id": "9086893e-d5bf-48b2-b0e7-2057a091dec4",
   "metadata": {},
   "outputs": [
    {
     "data": {
      "image/png": "[encoded data removed]",
      "text/plain": [
       "<Figure size 2000x500 with 3 Axes>"
      ]
     },
     "metadata": {},
     "output_type": "display_data"
    }
   ],
   "source": [
    "plt.figure(figsize=(20, 5))\n",
    "plt.subplot(1, 3, 1)\n",
    "plt.pie(df['University Rating'].value_counts(), labels=df['University Rating'].value_counts().index, autopct='%.0f%%')\n",
    "plt.title('University Rating')\n",
    "plt.subplot(1, 3, 2)\n",
    "df['University Rating'].value_counts().plot(kind='bar')\n",
    "plt.subplot(1, 3, 3)\n",
    "sns.histplot(df['University Rating'], kde=True);"
   ]
  },
  {
   "cell_type": "markdown",
   "id": "c7eaf031-985c-433c-b9de-e8fad7677c2d",
   "metadata": {},
   "source": [
    "- Rating 3 is the most frequent university rating, accounting for over 32% of applicants. This indicates a substantial portion of applicants come from moderately ranked universities.\n",
    "- Ratings 2, 3, and 4 dominate, collectively representing around 78.6% of the dataset.\n",
    "- Relatively fewer applicants are associated with highly rated universities (Rating 5) or the lowest-rated ones (Rating 1).\n",
    "- Only 7% of applicants come from universities with the lowest rating (1).\n",
    "- Similarly, only 15% come from the highest-rated universities (5). This may reflect the competitive nature of Ivy League admissions, where mid-range institutions are the majority."
   ]
  },
  {
   "cell_type": "code",
   "execution_count": 33,
   "id": "6b95f402-30b8-4fe1-acab-d4939e193f99",
   "metadata": {},
   "outputs": [
    {
     "data": {
      "text/plain": [
       "SOP\n",
       "4.0    89\n",
       "3.5    88\n",
       "3.0    80\n",
       "2.5    64\n",
       "4.5    63\n",
       "2.0    43\n",
       "5.0    42\n",
       "1.5    25\n",
       "1.0     6\n",
       "Name: count, dtype: int64"
      ]
     },
     "execution_count": 33,
     "metadata": {},
     "output_type": "execute_result"
    }
   ],
   "source": [
    "df.SOP.value_counts()"
   ]
  },
  {
   "cell_type": "code",
   "execution_count": 43,
   "id": "3f984c92-e53b-4293-863a-3846bcbf9ea6",
   "metadata": {},
   "outputs": [
    {
     "data": {
      "image/png": "[encoded data removed]",
      "text/plain": [
       "<Figure size 2000x500 with 3 Axes>"
      ]
     },
     "metadata": {},
     "output_type": "display_data"
    }
   ],
   "source": [
    "plt.figure(figsize=(20, 5))\n",
    "plt.subplot(1, 3, 1)\n",
    "plt.pie(df['SOP'].value_counts(), labels=df['SOP'].value_counts().index, autopct='%.0f%%')\n",
    "plt.title('SOP')\n",
    "plt.subplot(1, 3, 2)\n",
    "df['SOP'].value_counts().plot(kind='bar')\n",
    "plt.subplot(1, 3, 3)\n",
    "sns.histplot(df.SOP, kde=True);"
   ]
  },
  {
   "cell_type": "markdown",
   "id": "2ae1c593-7520-420a-bb12-51504aa7a39e",
   "metadata": {},
   "source": [
    "- The majority of applicants have an SOP score in the range of 3.0 to 4.5 (cumulatively 64%).\n",
    "- SOP ratings of 4.0 (17.8%) and 3.5 (17.6%) are the most frequent, suggesting many applicants aim for moderately strong statements.\n",
    "- The data is slightly skewed toward higher SOP scores, with 42.4% of applicants scoring 4.0 or higher.\n",
    "- Only 6.2% of applicants have weak SOPs (scores of 1.0 or 1.5).\n",
    "- Very few applicants (1.2%) have the lowest SOP score (1.0), indicating that most applicants recognize the importance of a strong SOP for admissions."
   ]
  },
  {
   "cell_type": "code",
   "execution_count": 50,
   "id": "3258f23f-5afb-43b1-9272-b2b8fb094ca7",
   "metadata": {},
   "outputs": [
    {
     "data": {
      "text/plain": [
       "LOR \n",
       "3.0    99\n",
       "4.0    94\n",
       "3.5    86\n",
       "4.5    63\n",
       "2.5    50\n",
       "5.0    50\n",
       "2.0    46\n",
       "1.5    11\n",
       "1.0     1\n",
       "Name: count, dtype: int64"
      ]
     },
     "execution_count": 50,
     "metadata": {},
     "output_type": "execute_result"
    }
   ],
   "source": [
    "df['LOR '].value_counts()"
   ]
  },
  {
   "cell_type": "code",
   "execution_count": 51,
   "id": "f41791ea-1764-469f-aaa7-af17526ca0ef",
   "metadata": {},
   "outputs": [
    {
     "data": {
      "image/png": "[encoded data removed]",
      "text/plain": [
       "<Figure size 2000x500 with 3 Axes>"
      ]
     },
     "metadata": {},
     "output_type": "display_data"
    }
   ],
   "source": [
    "plt.figure(figsize=(20, 5))\n",
    "plt.subplot(1, 3, 1)\n",
    "plt.pie(df['LOR '].value_counts(), labels=df['LOR '].value_counts().index, autopct='%.0f%%')\n",
    "plt.title('LOR')\n",
    "plt.subplot(1, 3, 2)\n",
    "df['LOR '].value_counts().plot(kind='bar')\n",
    "plt.subplot(1, 3, 3)\n",
    "sns.histplot(df['LOR '], kde=True);"
   ]
  },
  {
   "cell_type": "markdown",
   "id": "3706cc6c-0a44-4560-84fe-a1dfe6cb53e7",
   "metadata": {},
   "source": [
    "- The most frequent ratings are 3.0 (19.8%) and 4.0 (18.8%), indicating that most applicants have moderately strong letters of recommendation.\n",
    "- A high number of applicants have 3.0–4.5 ratings, showing that recommendation letters tend to be fairly good but not necessarily outstanding.\n",
    "- A significant portion of applicants (56.2%) have LORs rated 3.0 or higher.\n",
    "- Only a small fraction (0.4%) has the lowest possible LOR score (1.0), suggesting that the majority of applicants do not submit extremely weak recommendation letters.\n",
    "- Very few applicants have 1.0 or 1.5 LORs (only 2.4% combined), implying that a poorly rated LOR is rare among this dataset.\n",
    "- Only 2% of applicants have the highest LOR score (5.0), indicating that strong letters are not as common as moderately strong ones."
   ]
  },
  {
   "cell_type": "code",
   "execution_count": 52,
   "id": "1381008f-3958-4a8b-b95e-b400c2839902",
   "metadata": {},
   "outputs": [
    {
     "data": {
      "text/html": [
       "<div>\n",
       "<style scoped>\n",
       "    .dataframe tbody tr th:only-of-type {\n",
       "        vertical-align: middle;\n",
       "    }\n",
       "\n",
       "    .dataframe tbody tr th {\n",
       "        vertical-align: top;\n",
       "    }\n",
       "\n",
       "    .dataframe thead th {\n",
       "        text-align: right;\n",
       "    }\n",
       "</style>\n",
       "<table border=\"1\" class=\"dataframe\">\n",
       "  <thead>\n",
       "    <tr style=\"text-align: right;\">\n",
       "      <th></th>\n",
       "      <th>GRE Score</th>\n",
       "      <th>TOEFL Score</th>\n",
       "      <th>University Rating</th>\n",
       "      <th>SOP</th>\n",
       "      <th>LOR</th>\n",
       "      <th>CGPA</th>\n",
       "      <th>Research</th>\n",
       "      <th>Chance of Admit</th>\n",
       "    </tr>\n",
       "  </thead>\n",
       "  <tbody>\n",
       "    <tr>\n",
       "      <th>0</th>\n",
       "      <td>337</td>\n",
       "      <td>118</td>\n",
       "      <td>4</td>\n",
       "      <td>4.5</td>\n",
       "      <td>4.5</td>\n",
       "      <td>9.65</td>\n",
       "      <td>1</td>\n",
       "      <td>0.92</td>\n",
       "    </tr>\n",
       "    <tr>\n",
       "      <th>1</th>\n",
       "      <td>324</td>\n",
       "      <td>107</td>\n",
       "      <td>4</td>\n",
       "      <td>4.0</td>\n",
       "      <td>4.5</td>\n",
       "      <td>8.87</td>\n",
       "      <td>1</td>\n",
       "      <td>0.76</td>\n",
       "    </tr>\n",
       "    <tr>\n",
       "      <th>2</th>\n",
       "      <td>316</td>\n",
       "      <td>104</td>\n",
       "      <td>3</td>\n",
       "      <td>3.0</td>\n",
       "      <td>3.5</td>\n",
       "      <td>8.00</td>\n",
       "      <td>1</td>\n",
       "      <td>0.72</td>\n",
       "    </tr>\n",
       "    <tr>\n",
       "      <th>3</th>\n",
       "      <td>322</td>\n",
       "      <td>110</td>\n",
       "      <td>3</td>\n",
       "      <td>3.5</td>\n",
       "      <td>2.5</td>\n",
       "      <td>8.67</td>\n",
       "      <td>1</td>\n",
       "      <td>0.80</td>\n",
       "    </tr>\n",
       "    <tr>\n",
       "      <th>4</th>\n",
       "      <td>314</td>\n",
       "      <td>103</td>\n",
       "      <td>2</td>\n",
       "      <td>2.0</td>\n",
       "      <td>3.0</td>\n",
       "      <td>8.21</td>\n",
       "      <td>0</td>\n",
       "      <td>0.65</td>\n",
       "    </tr>\n",
       "  </tbody>\n",
       "</table>\n",
       "</div>"
      ],
      "text/plain": [
       "   GRE Score  TOEFL Score  University Rating  SOP  LOR   CGPA  Research  \\\n",
       "0        337          118                  4  4.5   4.5  9.65         1   \n",
       "1        324          107                  4  4.0   4.5  8.87         1   \n",
       "2        316          104                  3  3.0   3.5  8.00         1   \n",
       "3        322          110                  3  3.5   2.5  8.67         1   \n",
       "4        314          103                  2  2.0   3.0  8.21         0   \n",
       "\n",
       "   Chance of Admit   \n",
       "0              0.92  \n",
       "1              0.76  \n",
       "2              0.72  \n",
       "3              0.80  \n",
       "4              0.65  "
      ]
     },
     "execution_count": 52,
     "metadata": {},
     "output_type": "execute_result"
    }
   ],
   "source": [
    "df.head()"
   ]
  },
  {
   "cell_type": "code",
   "execution_count": null,
   "id": "75e91815-2b3d-4171-81f2-31fd8ae49983",
   "metadata": {},
   "outputs": [],
   "source": []
  }
 ],
 "metadata": {
  "kernelspec": {
   "display_name": "Python 3 (ipykernel)",
   "language": "python",
   "name": "python3"
  },
  "language_info": {
   "codemirror_mode": {
    "name": "ipython",
    "version": 3
   },
   "file_extension": ".py",
   "mimetype": "text/x-python",
   "name": "python",
   "nbconvert_exporter": "python",
   "pygments_lexer": "ipython3",
   "version": "3.13.0"
  }
 },
 "nbformat": 4,
 "nbformat_minor": 5
}
